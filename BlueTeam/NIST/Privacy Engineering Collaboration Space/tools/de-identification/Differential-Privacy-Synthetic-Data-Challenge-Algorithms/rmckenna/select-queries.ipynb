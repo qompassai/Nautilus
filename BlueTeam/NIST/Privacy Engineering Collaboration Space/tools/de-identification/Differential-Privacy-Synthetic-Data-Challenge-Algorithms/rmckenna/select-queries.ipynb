{
 "cells": [
  {
   "cell_type": "code",
   "execution_count": null,
   "metadata": {},
   "outputs": [],
   "source": [
    "import mechanism\n",
    "import pandas as pd\n",
    "import networkx as nx\n",
    "from mbi.junction_tree import JunctionTree\n",
    "from mbi import Domain\n",
    "import matplotlib.pyplot as plt\n",
    "import numpy as np\n",
    "from sklearn.cluster import spectral_clustering\n",
    "import itertools"
   ]
  },
  {
   "cell_type": "code",
   "execution_count": null,
   "metadata": {},
   "outputs": [],
   "source": [
    "# find the best queries to ask by non-privately analyzing the provisional dataset (assumed to be public)\n",
    "\n",
    "data = 'competitor_pack/data/colorado.csv'\n",
    "specs = 'competitor_pack/data/colorado-specs.json'\n",
    "\n",
    "M = mechanism.Mechanism(data, specs)\n",
    "\n",
    "data = M.load_data()\n",
    "domain = M.domain"
   ]
  },
  {
   "cell_type": "code",
   "execution_count": null,
   "metadata": {},
   "outputs": [],
   "source": [
    "# calculate mutual info between every pair of attributes\n",
    "\n",
    "N = data.df.shape[0]\n",
    "df = pd.DataFrame(columns=['col1','col2', 'score'])\n",
    "idx = 0\n",
    "\n",
    "for a,b in itertools.combinations(data.domain.attrs, 2):\n",
    "    A = data.project(a).datavector() / N\n",
    "    B = data.project(b).datavector() / N\n",
    "    AB = data.project([a,b]).datavector() / N\n",
    "    nz = AB > 0\n",
    "\n",
    "    score = np.dot(AB[nz], np.log(AB / np.outer(A,B).flatten())[nz])\n",
    "    print(a,b,score)\n",
    "    df.loc[idx] = [a,b,score]\n",
    "    df.loc[idx+1] = [b,a,score]\n",
    "    idx += 2\n",
    "\n",
    "df = df.sort_values('score')\n"
   ]
  },
  {
   "cell_type": "code",
   "execution_count": null,
   "metadata": {},
   "outputs": [],
   "source": [
    "dom2 = Domain.fromdict(dict(data.df.nunique()))\n",
    "nodes = domain.attrs\n",
    "weights = df[df.col1.isin(nodes) & df.col2.isin(nodes)]\n",
    "weights.loc[(df.col1 == 'SEX') & (df.col2 == 'CITY'), 'score'] += 100\n",
    "weights.loc[(df.col1 == 'SEX') & (df.col2 == 'INCWAGE'), 'score'] += 100\n",
    "weights.loc[(df.col1 == 'CITY') & (df.col2 == 'INCWAGE'), 'score'] += 100\n",
    "weights.loc[(df.col1 == 'CITY') & (df.col2 == 'SEX'), 'score'] += 100\n",
    "weights.loc[(df.col1 == 'INCWAGE') & (df.col2 == 'SEX'), 'score'] += 100\n",
    "weights.loc[(df.col1 == 'INCWAGE') & (df.col2 == 'CITY'), 'score'] += 100\n",
    "\n",
    "G = nx.Graph()\n",
    "G.add_nodes_from(nodes)\n",
    "\n",
    "for e1, e2, w in zip(weights['col1'], weights['col2'], weights['score']):\n",
    "    G.add_edge(e1, e2, weight=w)\n",
    "    \n",
    "mst = nx.maximum_spanning_tree(G)\n",
    "print(list(mst.edges))"
   ]
  },
  {
   "cell_type": "code",
   "execution_count": null,
   "metadata": {
    "scrolled": true
   },
   "outputs": [],
   "source": [
    "res = pd.DataFrame(columns=['A','B','C','size','score'])\n",
    "i = 0\n",
    "N = data.df.shape[0]\n",
    "\n",
    "for A in nodes:\n",
    "    for B, C in itertools.combinations(mst.neighbors(A), 2):\n",
    "        AB = data.df.groupby([A,B]).size().unstack().fillna(0).values / N\n",
    "        AC = data.df.groupby([A,C]).size().unstack().fillna(0).values / N\n",
    "        a,b = AB.shape\n",
    "        a,c = AC.shape\n",
    "        AB, AC = AB.reshape(a,b,1), AC.reshape(a,1,c)\n",
    "        \n",
    "        ABC2 = AB * AC / AB.sum(axis=1, keepdims=True)\n",
    "        \n",
    "        ABC = data.df.groupby([A,B,C]).size().unstack().fillna(0).unstack().fillna(0).stack().stack().values.reshape(a,b,c) / N\n",
    "\n",
    "        score = np.abs(ABC - ABC2).sum()\n",
    "        #AB = data.project([A,B]).datavector()\n",
    "        #AC = data.project([A,C]).datavector()\n",
    "        print(A,B,C)\n",
    "        res.loc[i] = [A,B,C,a*b*c,score]\n",
    "        i = i + 1\n",
    "        \n",
    "#res[res.score >= 0.05].sort_values('size',ascending=True)"
   ]
  },
  {
   "cell_type": "code",
   "execution_count": null,
   "metadata": {},
   "outputs": [],
   "source": [
    "print([tuple(row) for row in res.loc[res.score >= 0.10,['A','B','C']].values])"
   ]
  },
  {
   "cell_type": "code",
   "execution_count": null,
   "metadata": {},
   "outputs": [],
   "source": [
    "ans = []\n",
    "for col in nodes:\n",
    "    lookup = res.loc[res.A == col]\n",
    "    G = nx.Graph()\n",
    "    G.add_nodes_from(mst.neighbors(col))\n",
    "\n",
    "    for e1, e2, w in zip(lookup['B'], lookup['C'], lookup['score']):\n",
    "        if w >= 0.1:\n",
    "            G.add_edge(e1, e2, weight=w)\n",
    "\n",
    "    tree = nx.maximum_spanning_tree(G)\n",
    "    ans += list(tree.edges)\n",
    "    ans += [(col,) + e for e in tree.edges]\n",
    "print(ans)"
   ]
  },
  {
   "cell_type": "code",
   "execution_count": null,
   "metadata": {},
   "outputs": [],
   "source": []
  },
  {
   "cell_type": "code",
   "execution_count": null,
   "metadata": {},
   "outputs": [],
   "source": []
  }
 ],
 "metadata": {
  "kernelspec": {
   "display_name": "Python 3",
   "language": "python",
   "name": "python3"
  },
  "language_info": {
   "codemirror_mode": {
    "name": "ipython",
    "version": 3
   },
   "file_extension": ".py",
   "mimetype": "text/x-python",
   "name": "python",
   "nbconvert_exporter": "python",
   "pygments_lexer": "ipython3",
   "version": "3.6.7"
  }
 },
 "nbformat": 4,
 "nbformat_minor": 2
}
