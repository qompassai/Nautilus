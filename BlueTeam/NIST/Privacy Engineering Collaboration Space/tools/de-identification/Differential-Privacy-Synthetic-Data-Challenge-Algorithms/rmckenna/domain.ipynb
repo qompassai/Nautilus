{
 "cells": [
  {
   "cell_type": "code",
   "execution_count": 2,
   "metadata": {},
   "outputs": [],
   "source": [
    "import json\n",
    "import pandas as pd"
   ]
  },
  {
   "cell_type": "code",
   "execution_count": 3,
   "metadata": {},
   "outputs": [],
   "source": [
    "specs = json.load(open('competitor_pack/data/colorado-specs.json'))\n",
    "df = pd.read_csv('competitor_pack/data/colorado.csv')\n",
    "counties = pd.read_csv('counties.txt', usecols=[3], delimiter='\\t', squeeze=True).dropna().astype(int)"
   ]
  },
  {
   "cell_type": "code",
   "execution_count": 4,
   "metadata": {},
   "outputs": [],
   "source": [
    "columns = list(df.columns)\n",
    "domain = { }\n",
    "\n",
    "file = open('competitor_pack/data/codebook.cbk')\n",
    "col = ''\n",
    "\n",
    "for line in file:\n",
    "    if line == '\\n':\n",
    "        line = next(file)\n",
    "        col = line.split()[0]\n",
    "        if col in columns:\n",
    "            domain[col] = []\n",
    "    elif col in columns:\n",
    "        #line = next(file)\n",
    "        val = line.split()[0]\n",
    "        try: domain[col].append(int(val))\n",
    "        except: pass\n",
    "    else:\n",
    "        continue\n",
    "\n",
    "domain['SCHOOL'] = [1,2]\n",
    "domain['CHBORN'] += [99]\n",
    "domain['HIGRADE'] += [99]\n",
    "domain['EDUC'] += [99]\n",
    "domain['CLASSWKR'] += [9]\n",
    "domain['CLASSWKRD'] += [98, 99]\n",
    "domain['OCC'] = domain['UOCC']\n",
    "domain['HRSWORK1'] = [i for i in range(99)]\n",
    "domain['WKSWORK1'] = [i for i in range(53)]\n",
    "domain['SEI'] = list(range(97))\n",
    "domain['OCCSCORE'] = list(range(81))\n",
    "#domain['SEA'] = range(503) 0, ..., 502 + 990, ..., 992: better to just use maxval\n",
    "domain['IND'] = domain['UIND']\n",
    "domain['ERSCOR50'] = list(range(1001)) + [9999]\n",
    "domain['EDSCOR50'] = list(range(1001)) + [9999]\n",
    "domain['NPBOSS50'] = list(range(1001)) + [9999]\n",
    "domain['MIGMET5'] = domain['METAREAD'] + [9999]\n",
    "domain['CITY'] += [9999]\n",
    "domain['MIGCITY5'] = domain['CITY']\n",
    "# domain['DURUNEMP'] = range(251) + [999] # 250 is top code, but some are higher\n",
    "domain['COUNTY'] = sorted(list(int(c) for c in pd.unique(counties)))\n",
    "domain['MIGCOUNTY'] = domain['COUNTY']\n",
    "domain['MIGSEA5'] = list(range(503)) + [990, 991, 992, 996, 997, 998, 999]\n",
    "\n",
    "json.dump(domain, open('domain.json', 'w'))\n",
    "\n",
    "extra = ['WARD', 'SEA', 'SUPDIST', 'PRESGL', 'MIGSEA5', 'DURUNEMP']"
   ]
  }
 ],
 "metadata": {
  "kernelspec": {
   "display_name": "Python 3",
   "language": "python",
   "name": "python3"
  },
  "language_info": {
   "codemirror_mode": {
    "name": "ipython",
    "version": 3
   },
   "file_extension": ".py",
   "mimetype": "text/x-python",
   "name": "python",
   "nbconvert_exporter": "python",
   "pygments_lexer": "ipython3",
   "version": "3.6.7"
  }
 },
 "nbformat": 4,
 "nbformat_minor": 2
}
