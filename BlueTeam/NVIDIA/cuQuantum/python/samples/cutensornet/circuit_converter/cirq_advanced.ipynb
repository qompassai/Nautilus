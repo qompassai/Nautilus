{
 "cells": [
  {
   "cell_type": "markdown",
   "id": "c77d9b59-34cc-458a-bdad-33cf25d3e483",
   "metadata": {},
   "source": [
    "Copyright (c) 2021-2024, NVIDIA CORPORATION & AFFILIATES\n",
    "\n",
    "SPDX-License-Identifier: BSD-3-Clause"
   ]
  },
  {
   "cell_type": "markdown",
   "id": "53d2e651-5340-4965-8dea-a7b81091b3e2",
   "metadata": {},
   "source": [
    "In this notebook we will go over some examples to show how to use cuTensorNet to execute advanced quantum algorithms in Cirq. \n",
    "The topics we'll cover include:\n",
    " - Create a biased sampler\n",
    " - Compute the expectation values"
   ]
  },
  {
   "cell_type": "code",
   "execution_count": 1,
   "id": "b2cfabd9-acfb-479e-a4d5-f934aa089ad0",
   "metadata": {},
   "outputs": [],
   "source": [
    "import itertools\n",
    "\n",
    "import cirq\n",
    "import cupy as cp\n",
    "import matplotlib.pyplot as plt\n",
    "import numpy as np\n",
    "import sympy\n",
    "\n",
    "from cuquantum import contract, contract_path, CircuitToEinsum\n",
    "from cuquantum import cutensornet as cutn\n",
    "\n",
    "np.random.seed(1000)"
   ]
  },
  {
   "cell_type": "markdown",
   "id": "91010c34-7b0d-4f56-9bab-5137eb9b9549",
   "metadata": {},
   "source": [
    "# Biased Sampler\n",
    "\n",
    "Let's first create a parameterized entangled circuit as our sampler."
   ]
  },
  {
   "cell_type": "code",
   "execution_count": 2,
   "id": "2b9bafbd-f7c8-4618-afae-85149ecd847c",
   "metadata": {},
   "outputs": [
    {
     "name": "stdout",
     "output_type": "stream",
     "text": [
      "                   ┌─────────────────────┐   ┌────────────────────┐   ┌───────────┐   ┌────────────────────┐   ┌──┐                ┌──┐\n",
      "0: ───Rx(0.208π)─────@────────────────────────Rx(0.013π)─────────────────────────@─────Rx(0.125π)────────────────@────Rx(0.296π)─────@─────────────────────────────\n",
      "                     │                                                           │                               │                   │\n",
      "1: ───Rx(0.037π)────X┼────────────────────────@────────────────────────Rx(0.126π)┼─────X────────────────────────@┼────Rx(0.058π)────X┼────@───Rx(0.132π)───X───@───\n",
      "                    ││                        │                                  │     │                        ││                  ││    │                │   │\n",
      "2: ───Rx(0.302π)────┼┼─────────Rx(0.074π)─────┼─────────Rx(0.237π)─────Rx(0.009π)┼─────┼────────────────────────┼┼──────────────────┼┼────┼────────────────┼───┼───\n",
      "                    ││                        │                                  │     │                        ││                  ││    │                │   │\n",
      "3: ───Rx(0.153π)────┼X────────────────────────┼─────────Rx(0.268π)───────────────X─────┼─────────Rx(0.022π)─────┼X────Rx(0.313π)────┼X────┼────────────────┼───┼───\n",
      "                    │                         │                                        │                        │                   │     │                │   │\n",
      "4: ───Rx(0.278π)────┼Rx(0.066π)───────────────┼─────────Rx(0.282π)─────Rx(0.108π)──────┼────────────────────────┼───────────────────┼─────┼────────────────┼───┼───\n",
      "                    │                         │                                        │                        │                   │     │                │   │\n",
      "5: ───Rx(0.068π)────@─────────────────────────X────────────────────────Rx(0.236π)──────@────────────────────────X─────Rx(0.303π)────@─────X───Rx(0.225π)───@───X───\n",
      "                   └─────────────────────┘   └────────────────────┘   └───────────┘   └────────────────────┘   └──┘                └──┘\n"
     ]
    }
   ],
   "source": [
    "def add_entangled_layers(qubits, n_layer):\n",
    "    n_qubits = len(qubits)\n",
    "    for _ in range(n_layer):\n",
    "        rads = np.random.random(n_qubits)\n",
    "        for i, q in enumerate(qubits):\n",
    "            yield cirq.rx(rads[i])(q)\n",
    "        for i, q in enumerate(qubits[1::2]):\n",
    "            yield cirq.CX(qubits[i-1], q)\n",
    "\n",
    "num_qubits = 6\n",
    "n_layer = 4\n",
    "circuit = cirq.Circuit(add_entangled_layers(cirq.LineQubit.range(num_qubits), n_layer))\n",
    "print(circuit)"
   ]
  },
  {
   "cell_type": "markdown",
   "id": "c51e84b7-6e08-486c-b2e5-a7e3db17dd96",
   "metadata": {},
   "source": [
    "Now we compute the marginal probabilities for qubits 0 & 4, subject to qubit 1 being in state 0 and qubit 2 in state 1."
   ]
  },
  {
   "cell_type": "code",
   "execution_count": 3,
   "id": "95f9db84-dc3c-478e-a9d6-bbd670ae9714",
   "metadata": {},
   "outputs": [
    {
     "name": "stdout",
     "output_type": "stream",
     "text": [
      "[[0.02869503 0.73300057]\n",
      " [0.00897754 0.22932686]]\n"
     ]
    }
   ],
   "source": [
    "myconverter = CircuitToEinsum(circuit, dtype='complex128', backend=cp)\n",
    "\n",
    "qubits = sorted(circuit.all_qubits())\n",
    "where = (qubits[0], qubits[4])\n",
    "fixed = {qubits[1]: '0',\n",
    "         qubits[2]: '1'}  # setting fixed=None will generate unbiased probablity\n",
    "expression, operands = myconverter.reduced_density_matrix(where, fixed=fixed)\n",
    "rdm = contract(expression, *operands)\n",
    "    \n",
    "n_sites = len(where)\n",
    "sh = 2 ** n_sites\n",
    "prob = abs(rdm.reshape(sh, sh).diagonal())**2\n",
    "marginal = prob.reshape((2,)*n_sites) / prob.sum()  # normalization\n",
    "\n",
    "# print the probabilities\n",
    "print(marginal)"
   ]
  },
  {
   "cell_type": "code",
   "execution_count": 4,
   "id": "e90a5737-cf80-46d6-aa94-4d994e208598",
   "metadata": {},
   "outputs": [
    {
     "name": "stdout",
     "output_type": "stream",
     "text": [
      "\n",
      "10000 samples on (cirq.LineQubit(0), cirq.LineQubit(4)) assuming:\n",
      "  - qubit 1 is fixed at state 0\n",
      "  - qubit 2 is fixed at state 1\n"
     ]
    },
    {
     "data": {
      "image/png": "[encoded data removed]",
      "text/plain": [
       "<Figure size 432x288 with 1 Axes>"
      ]
     },
     "metadata": {
      "needs_background": "light"
     },
     "output_type": "display_data"
    }
   ],
   "source": [
    "def create_samples(marginal, nsample):\n",
    "    # this function generates samples on CPU, since we are sampling over Python strings \n",
    "    nqubits = marginal.ndim    \n",
    "    bitstrings = [''.join(bitstring) for bitstring in itertools.product('01', repeat=nqubits)]\n",
    "    ps = cp.asnumpy(marginal.flatten())\n",
    "    return np.random.choice(bitstrings, size=nsample, p=ps)\n",
    "\n",
    "nsample = 10000\n",
    "samples = create_samples(marginal, nsample)\n",
    "keys, counts = np.unique(samples, return_counts=True)\n",
    "\n",
    "print(f'\\n{nsample} samples on {where} assuming:')\n",
    "for q, state in fixed.items():\n",
    "    print(f'  - qubit {q} is fixed at state {state}')\n",
    "\n",
    "# plot the result; note the keys are already sorted by numpy.unique() \n",
    "plt.bar(keys, counts)\n",
    "plt.title('Biased Sampling Results')\n",
    "plt.show()"
   ]
  },
  {
   "cell_type": "markdown",
   "id": "92c4626b-b801-4f80-bf05-3afe3dbda276",
   "metadata": {},
   "source": [
    "# Expectation Value Computation\n",
    "\n",
    "In this section, we will compute expectation values using the VQE example taken from [this Cirq tutorial](https://quantumai.google/cirq/tutorials/variational_algorithm). \n",
    "\n",
    "We first define a set of functions that specify the circuit ansatz."
   ]
  },
  {
   "cell_type": "code",
   "execution_count": 5,
   "id": "b21b880f-8bec-4252-a9db-7acdddeeca53",
   "metadata": {},
   "outputs": [],
   "source": [
    "# define the length and width of a 2D grid\n",
    "length = 3\n",
    "\n",
    "def rot_x_layer(length, half_turns):\n",
    "    \"\"\"Yields X rotations by half_turns on a square grid of given length.\"\"\"\n",
    "\n",
    "    # Define the gate once and then re-use it for each Operation.\n",
    "    rot = cirq.XPowGate(exponent=half_turns)\n",
    "\n",
    "    # Create an X rotation Operation for each qubit in the grid.\n",
    "    for i in range(length):\n",
    "        for j in range(length):\n",
    "            yield rot(cirq.GridQubit(i, j))\n",
    "\n",
    "def prepare_plus_layer(length):\n",
    "    for i in range(length):\n",
    "        for j in range(length):\n",
    "            yield cirq.H(cirq.GridQubit(i, j))\n",
    "    \n",
    "def rot_z_layer(h, half_turns):\n",
    "    \"\"\"Yields Z rotations by half_turns conditioned on the field h.\"\"\"\n",
    "    gate = cirq.ZPowGate(exponent=half_turns)\n",
    "    for i, h_row in enumerate(h):\n",
    "        for j, h_ij in enumerate(h_row):\n",
    "            if h_ij == 1:\n",
    "                yield gate(cirq.GridQubit(i, j))\n",
    "\n",
    "def rot_11_layer(jr, jc, half_turns):\n",
    "    \"\"\"Yields rotations about |11> conditioned on the jr and jc fields.\"\"\"\n",
    "    cz_gate = cirq.CZPowGate(exponent=half_turns)    \n",
    "    for i, jr_row in enumerate(jr):\n",
    "        for j, jr_ij in enumerate(jr_row):\n",
    "            q = cirq.GridQubit(i, j)\n",
    "            q_1 = cirq.GridQubit(i + 1, j)\n",
    "            if jr_ij == -1:\n",
    "                yield cirq.X(q)\n",
    "                yield cirq.X(q_1)\n",
    "            yield cz_gate(q, q_1)\n",
    "            if jr_ij == -1:\n",
    "                yield cirq.X(q)\n",
    "                yield cirq.X(q_1)\n",
    "\n",
    "    for i, jc_row in enumerate(jc):\n",
    "        for j, jc_ij in enumerate(jc_row):\n",
    "            q = cirq.GridQubit(i, j)\n",
    "            q_1 = cirq.GridQubit(i, j + 1)\n",
    "            if jc_ij == -1:\n",
    "                yield cirq.X(q)\n",
    "                yield cirq.X(q_1)\n",
    "            yield cz_gate(q, q_1)\n",
    "            if jc_ij == -1:\n",
    "                yield cirq.X(q)\n",
    "                yield cirq.X(q_1)\n",
    "\n",
    "def initial_step(length):\n",
    "    yield prepare_plus_layer(length)\n",
    "\n",
    "def one_step(h, jr, jc, x_half_turns, h_half_turns, j_half_turns):\n",
    "    length = len(h)\n",
    "    yield rot_z_layer(h, h_half_turns)\n",
    "    yield rot_11_layer(jr, jc, j_half_turns)\n",
    "    yield rot_x_layer(length, x_half_turns)"
   ]
  },
  {
   "cell_type": "markdown",
   "id": "2abf3e41-9e2a-4b2f-91ed-ef96ba84bf9a",
   "metadata": {},
   "source": [
    "The following functions can generate a random 2D spin Hamiltonian for the cost function."
   ]
  },
  {
   "cell_type": "code",
   "execution_count": 6,
   "id": "aa8038e6-3067-4766-87e4-1de0ff1c30c1",
   "metadata": {},
   "outputs": [
    {
     "name": "stdout",
     "output_type": "stream",
     "text": [
      "transverse fields:\n",
      "[[ 1 -1 -1]\n",
      " [ 1  1  1]\n",
      " [-1 -1 -1]]\n",
      "row j fields:\n",
      "[[-1  1  1]\n",
      " [-1  1 -1]]\n",
      "column j fields:\n",
      "[[ 1 -1]\n",
      " [ 1  1]\n",
      " [ 1 -1]]\n"
     ]
    }
   ],
   "source": [
    "def rand2d(rows, cols):\n",
    "    return np.random.choice((1, -1), size=rows*cols).reshape(rows, cols)\n",
    "\n",
    "def random_instance(length):\n",
    "    # transverse field terms\n",
    "    h = rand2d(length, length)\n",
    "    # links within a row\n",
    "    jr = rand2d(length - 1, length)\n",
    "    # links within a column\n",
    "    jc = rand2d(length, length - 1)\n",
    "    return (h, jr, jc)\n",
    "\n",
    "\n",
    "h, jr, jc = random_instance(length)\n",
    "print(f'transverse fields:\\n{h}')\n",
    "print(f'row j fields:\\n{jr}')\n",
    "print(f'column j fields:\\n{jc}')"
   ]
  },
  {
   "cell_type": "markdown",
   "id": "1d22727e-1776-474d-8412-088f48a2ed7a",
   "metadata": {},
   "source": [
    "Now we can generate a parameterized circuit using `sympy`."
   ]
  },
  {
   "cell_type": "code",
   "execution_count": 7,
   "id": "62600d04-99ae-445d-932c-9268f3435959",
   "metadata": {},
   "outputs": [
    {
     "name": "stdout",
     "output_type": "stream",
     "text": [
      "                        ┌───────────────┐   ┌────────┐\n",
      "(0, 0): ───H───Z^beta────X───────────────────@───────────X─────────@─────────X^alpha─────────────────────────────────────────────────────────M('x')───\n",
      "                                             │                     │                                                                         │\n",
      "(0, 1): ───H──────────────@──────────────────┼─────────────────────@^gamma───X─────────@─────────X─────────X^alpha───────────────────────────M────────\n",
      "                          │                  │                                         │                                                     │\n",
      "(0, 2): ───H──────────────┼──────@───────────┼──────X──────────────────────────────────@^gamma───X─────────X^alpha───────────────────────────M────────\n",
      "                          │      │           │                                                                                               │\n",
      "(1, 0): ───H───Z^beta────X┼──────┼───────────@^gamma─────X─────────X─────────@─────────X─────────@─────────X^alpha───────────────────────────M────────\n",
      "                          │      │                                           │                   │                                           │\n",
      "(1, 1): ───H───Z^beta─────@^gamma┼───────────@───────────────────────────────┼───────────────────@^gamma───@─────────X^alpha─────────────────M────────\n",
      "                                 │           │                               │                             │                                 │\n",
      "(1, 2): ───H───Z^beta────────────@^gamma─────┼──────X────@─────────X─────────┼─────────────────────────────@^gamma───X^alpha─────────────────M────────\n",
      "                                             │           │                   │                                                               │\n",
      "(2, 0): ───H───X─────────────────────────────┼───────────┼───────────────────@^gamma───X─────────@─────────X^alpha───────────────────────────M────────\n",
      "                                             │           │                                       │                                           │\n",
      "(2, 1): ───H─────────────────────────────────@^gamma─────┼───────────────────────────────────────@^gamma───X─────────@─────────X───X^alpha───M────────\n",
      "                                                         │                                                           │                       │\n",
      "(2, 2): ───H───X─────────────────────────────────────────@^gamma───X─────────X───────────────────────────────────────@^gamma───X───X^alpha───M────────\n",
      "                        └───────────────┘   └────────┘\n"
     ]
    }
   ],
   "source": [
    "circuit = cirq.Circuit()\n",
    "alpha = sympy.Symbol('alpha')\n",
    "beta = sympy.Symbol('beta')\n",
    "gamma = sympy.Symbol('gamma')\n",
    "circuit.append(initial_step(len(h)))\n",
    "circuit.append(one_step(h, jr, jc, alpha, beta, gamma))\n",
    "qubits = sorted(circuit.all_qubits())\n",
    "circuit.append(cirq.measure(*qubits, key='x'))\n",
    "print(circuit)"
   ]
  },
  {
   "cell_type": "markdown",
   "id": "e198af53-5dad-4a3c-992a-2e8c0a89d4ef",
   "metadata": {},
   "source": [
    "We can use `CircuitToEinsum.reduced_density_matrix()` to compute the exact energy for each Hamiltonian term and sum over all terms to yield the total energy."
   ]
  },
  {
   "cell_type": "code",
   "execution_count": 8,
   "id": "959d9a69-156c-46bf-aff3-cac2018c5e24",
   "metadata": {},
   "outputs": [
    {
     "name": "stdout",
     "output_type": "stream",
     "text": [
      "Exact energy from cutn: 0.4444829524537696\n"
     ]
    }
   ],
   "source": [
    "def compute_energy_cutn(resolved_circuit, length, h, jr, jc):\n",
    "    nrow = ncol = length\n",
    "    assert length == jr.shape[1] == jc.shape[0]\n",
    "    \n",
    "    def compute_energy_term(myconverter, pauli_string, options):\n",
    "        expression, operands = myconverter.expectation(pauli_string, lightcone=True)\n",
    "        e = contract(expression, *operands, options=options).real\n",
    "        return e\n",
    "    \n",
    "    def expectation(x):\n",
    "        energy = 0.\n",
    "        \n",
    "        # trick: reuse the cuTensorNet library handle to reduce overhead\n",
    "        handle = cutn.create()\n",
    "        options = {'handle': handle}\n",
    "    \n",
    "        myconverter = CircuitToEinsum(resolved_circuit, dtype='complex128', backend=cp)\n",
    "        \n",
    "        for i in range(nrow):\n",
    "            for j in range(ncol):\n",
    "                # one-body terms\n",
    "                q = qubits[i*ncol+j]\n",
    "                pauli_string = {q: 'Z'}\n",
    "                energy += compute_energy_term(myconverter, pauli_string, options) * h[i][j]\n",
    "                \n",
    "                # two-body terms\n",
    "                #   - vertical bond\n",
    "                if i != nrow-1:\n",
    "                    top = qubits[i*ncol+j]\n",
    "                    bottom = qubits[(i+1)*ncol+j]\n",
    "                    pauli_string = {top: 'Z', bottom: 'Z'}\n",
    "                    energy += compute_energy_term(myconverter, pauli_string, options) * jr[i][j]\n",
    "                    \n",
    "                #   - horizontal bond\n",
    "                if j != ncol-1:\n",
    "                    left = qubits[i*ncol+j]\n",
    "                    right = qubits[i*ncol+(j+1)]\n",
    "                    pauli_string = {left:'Z', right:'Z'}\n",
    "                    energy += compute_energy_term(myconverter, pauli_string, options) * jc[i][j]\n",
    "    \n",
    "        # handle should be explictly destroyed\n",
    "        cutn.destroy(handle)\n",
    "        \n",
    "        return cp.asnumpy(energy)\n",
    "    \n",
    "    return expectation\n",
    "\n",
    "\n",
    "# let's try the circuit with random numbers filling alpha, beta and gamma\n",
    "params = (alpha, beta, gamma)\n",
    "param_values = np.random.random(3)\n",
    "resolved_circuit = cirq.resolve_parameters(circuit, dict(zip(params, param_values)))\n",
    "\n",
    "# set up and run the cutn calculation\n",
    "expectation_cutn = compute_energy_cutn(resolved_circuit, length, h, jr, jc)\n",
    "energy_cutn = expectation_cutn(param_values)\n",
    "print(f'Exact energy from cutn: {energy_cutn}')"
   ]
  },
  {
   "cell_type": "markdown",
   "id": "3766843d-bcd0-4dbd-bf99-3fb7a1d28707",
   "metadata": {},
   "source": [
    "With Cirq's simulator, expectation values are computed in a different manner. One needs to perform a number of sampling and compute the expectation value statistically."
   ]
  },
  {
   "cell_type": "code",
   "execution_count": 9,
   "id": "769965f8-d657-42b6-95fc-f5689d925026",
   "metadata": {},
   "outputs": [],
   "source": [
    "def energy_func(length, h, jr, jc):\n",
    "    \n",
    "    def energy(measurements):\n",
    "        # Reshape measurement into array that matches grid shape.\n",
    "        meas_list_of_lists = [measurements[i * length:(i + 1) * length]\n",
    "                              for i in range(length)]\n",
    "        # Convert true/false to +1/-1.\n",
    "        pm_meas = 1 - 2 * np.array(meas_list_of_lists).astype(np.int32)\n",
    "        \n",
    "        tot_energy = np.sum(pm_meas * h)\n",
    "        for i, jr_row in enumerate(jr):\n",
    "            for j, jr_ij in enumerate(jr_row):\n",
    "                tot_energy += jr_ij * pm_meas[i, j] * pm_meas[i + 1, j]\n",
    "        for i, jc_row in enumerate(jc):\n",
    "            for j, jc_ij in enumerate(jc_row):\n",
    "                tot_energy += jc_ij * pm_meas[i, j] * pm_meas[i, j + 1]\n",
    "        return tot_energy\n",
    "        \n",
    "    return energy\n",
    "\n",
    "def obj_func(results, length, h, jr, jc):\n",
    "    energy_hist = results.histogram(key='x', fold_func=energy_func(length, h, jr, jc))\n",
    "    return np.sum([k * v for k,v in energy_hist.items()]) / results.repetitions\n",
    "\n",
    "\n",
    "simulator = cirq.Simulator(dtype=np.complex128)\n",
    "nsamples = np.arange(1000, 80000, 4000)\n",
    "energy_cirq = []\n",
    "for repetitions in nsamples:\n",
    "    results = simulator.run(resolved_circuit, repetitions=repetitions)\n",
    "    energy_cirq.append(obj_func(results, length, h, jr, jc))"
   ]
  },
  {
   "cell_type": "markdown",
   "id": "5c88bfaf-ea9c-45cb-9b16-3994f900eacb",
   "metadata": {},
   "source": [
    "We can plot the convergence of sampling versus the exact expectation value computed by `cuquantum.contract`"
   ]
  },
  {
   "cell_type": "code",
   "execution_count": 10,
   "id": "d3a7fed6-05e6-477b-aad1-6f01f378a600",
   "metadata": {},
   "outputs": [
    {
     "data": {
      "image/png": "[encoded data removed]",
      "text/plain": [
       "<Figure size 432x288 with 1 Axes>"
      ]
     },
     "metadata": {
      "needs_background": "light"
     },
     "output_type": "display_data"
    }
   ],
   "source": [
    "plt.plot(nsamples, energy_cirq, label='cirq sampler')\n",
    "plt.hlines(energy_cutn, nsamples[0], nsamples[-1], color='grey', linestyle='--', label='cuTN reference')\n",
    "plt.xlabel('number of samples')\n",
    "plt.ylabel('Energy')\n",
    "plt.legend()\n",
    "plt.show()"
   ]
  }
 ],
 "metadata": {
  "kernelspec": {
   "display_name": "Python 3 (ipykernel)",
   "language": "python",
   "name": "python3"
  },
  "language_info": {
   "codemirror_mode": {
    "name": "ipython",
    "version": 3
   },
   "file_extension": ".py",
   "mimetype": "text/x-python",
   "name": "python",
   "nbconvert_exporter": "python",
   "pygments_lexer": "ipython3",
   "version": "3.9.12"
  }
 },
 "nbformat": 4,
 "nbformat_minor": 5
}
